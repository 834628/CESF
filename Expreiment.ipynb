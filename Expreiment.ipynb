{
 "cells": [
  {
   "cell_type": "code",
   "execution_count": 4,
   "metadata": {},
   "outputs": [],
   "source": [
    "import main"
   ]
  },
  {
   "cell_type": "code",
   "execution_count": 5,
   "metadata": {},
   "outputs": [],
   "source": [
    "Datasets = ['2D_data_sin', 'abalone', 'banknote', 'breast_cancer', 'ecoli', 'haberman', 'heloc', ]\n",
    "CESF = main.CESF('2D_data_sin', max_depth=3)\n",
    "result = CESF.run()"
   ]
  },
  {
   "cell_type": "code",
   "execution_count": 6,
   "metadata": {},
   "outputs": [
    {
     "data": {
      "text/plain": "{'Dataset name': '2D_data_sin',\n 'RF Acc': 0.9090909090909091,\n 'RF NumR': 193,\n 'NumR': 6,\n 'FModel': 0.7644288926950691,\n 'FXtest': 1.0,\n 'FXRtest': 0.8181818181818182,\n 'Acc': 0.9090909090909091}"
     },
     "execution_count": 6,
     "metadata": {},
     "output_type": "execute_result"
    }
   ],
   "source": [
    "result"
   ]
  },
  {
   "cell_type": "code",
   "execution_count": 6,
   "metadata": {},
   "outputs": [],
   "source": []
  }
 ],
 "metadata": {
  "kernelspec": {
   "display_name": "Python 3",
   "language": "python",
   "name": "python3"
  },
  "language_info": {
   "codemirror_mode": {
    "name": "ipython",
    "version": 3
   },
   "file_extension": ".py",
   "mimetype": "text/x-python",
   "name": "python",
   "nbconvert_exporter": "python",
   "pygments_lexer": "ipython3",
   "version": "3.7.7"
  }
 },
 "nbformat": 4,
 "nbformat_minor": 1
}